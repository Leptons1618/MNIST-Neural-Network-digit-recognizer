{
 "cells": [
  {
   "cell_type": "code",
   "execution_count": 2,
   "metadata": {},
   "outputs": [],
   "source": [
    "# MNIST handwritten digits classification with 2-layer MLP\n",
    "\n",
    "import numpy as np\n",
    "import matplotlib.pyplot as plt\n",
    "import pandas as pd\n",
    "\n",
    "# Load the data\n",
    "data = pd.read_csv('train.csv')"
   ]
  },
  {
   "cell_type": "code",
   "execution_count": 11,
   "metadata": {},
   "outputs": [
    {
     "name": "stdout",
     "output_type": "stream",
     "text": [
      "(42000, 785)\n"
     ]
    }
   ],
   "source": [
    "print(data.shape)"
   ]
  },
  {
   "cell_type": "code",
   "execution_count": null,
   "metadata": {},
   "outputs": [],
   "source": [
    "data = np.array(data)\n",
    "m, n = data.shape\n",
    "np.random.shuffle(data)\n",
    "\n",
    "# Split the data into train and test sets\n",
    "split = int(0.8*m) # 80% of the data is used for training\n",
    "train_data = data[:split].T # Transpose the data\n",
    "test_data = data[split:].T\n",
    "\n",
    "# Split the train and test data into X and Y sets\n",
    "train_X = train_data[:-1]/255 # Normalize the data\n",
    "train_Y = train_data[-1]\n",
    "test_X = test_data[:-1]/255\n",
    "test_Y = test_data[-1]\n"
   ]
  },
  {
   "cell_type": "code",
   "execution_count": 12,
   "metadata": {},
   "outputs": [
    {
     "name": "stdout",
     "output_type": "stream",
     "text": [
      "[[-0.70716398  0.58448827]\n",
      " [-0.61214649 -0.43555537]\n",
      " [-0.34874509  0.31157287]\n",
      " [ 1.28660164 -0.18705519]\n",
      " [-0.97152492  0.55564096]]\n",
      "[[-0.70716398 -0.61214649 -0.34874509  1.28660164 -0.97152492]\n",
      " [ 0.58448827 -0.43555537  0.31157287 -0.18705519  0.55564096]]\n",
      "[ 0.58448827 -0.43555537  0.31157287 -0.18705519  0.55564096]\n"
     ]
    }
   ],
   "source": [
    "a = np.random.randn(5, 2)\n",
    "print(a)\n",
    "a = a.T\n",
    "print(a)\n",
    "print(a[-1])"
   ]
  }
 ],
 "metadata": {
  "kernelspec": {
   "display_name": "Python 3",
   "language": "python",
   "name": "python3"
  },
  "language_info": {
   "codemirror_mode": {
    "name": "ipython",
    "version": 3
   },
   "file_extension": ".py",
   "mimetype": "text/x-python",
   "name": "python",
   "nbconvert_exporter": "python",
   "pygments_lexer": "ipython3",
   "version": "3.11.5"
  },
  "orig_nbformat": 4
 },
 "nbformat": 4,
 "nbformat_minor": 2
}
