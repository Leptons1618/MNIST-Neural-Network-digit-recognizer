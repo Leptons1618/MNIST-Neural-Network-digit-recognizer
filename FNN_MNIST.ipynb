{
 "cells": [
  {
   "cell_type": "markdown",
   "metadata": {},
   "source": [
    "# MNIST Digit Classification with Keras\n",
    "\n",
    "This Jupyter Notebook demonstrates how to build a simple feedforward neural network using Keras to classify handwritten digits from the MNIST dataset. The MNIST dataset consists of 60,000 training images and 10,000 testing images of handwritten digits (0-9) with a resolution of 28x28 pixels.\n",
    "\n",
    "## Dependencies\n",
    "\n",
    "This notebook requires the following dependencies:\n",
    "- pandas\n",
    "- keras\n",
    "- tensorflow\n",
    "- matplotlib\n",
    "\n",
    "## Data Preparation\n",
    "\n",
    "The MNIST dataset is loaded using the `mnist.load_data()` function from the `tensorflow.keras.datasets` module. The dataset is split into training and testing sets, with 20% of the training set used for validation during training.\n",
    "\n",
    "## Model Architecture\n",
    "\n",
    "The model architecture consists of a simple feedforward neural network with three fully connected layers. The input layer consists of a flattened 28x28 image, followed by two hidden layers with ReLU activation functions. The output layer consists of 10 neurons with softmax activation, representing the 10 possible digit classes.\n",
    "\n",
    "## Model Training\n",
    "\n",
    "The model is compiled using the `adam` optimizer and `sparse_categorical_crossentropy` loss function. The model is trained for 10 epochs with a batch size of 32. The training process is monitored using the validation accuracy metric.\n",
    "\n",
    "## Model Evaluation\n",
    "\n",
    "The trained model is evaluated on the test set using the `evaluate()` method. The test accuracy is printed to the console.\n",
    "\n",
    "## Model Prediction\n",
    "\n",
    "The trained model is used to make predictions on a sample of test images. The predicted digit and ground-truth label are printed to the console, along with a visualization of the input image and predicted digit.\n",
    "\n",
    "## Model Saving\n",
    "\n",
    "The trained model is saved to a file named `mnist_fnn_model.h5` using the `save()` method."
   ]
  },
  {
   "cell_type": "markdown",
   "metadata": {},
   "source": [
    "<p style = \"font-size : 42px; color : #393e46 ; font-family : 'Comic Sans MS'; text-align : center; background-color : #00adb5; border-radius: 5px 5px;\"><strong>Feedforward Neural Network</strong></p>"
   ]
  },
  {
   "cell_type": "code",
   "execution_count": 2,
   "metadata": {},
   "outputs": [],
   "source": [
    "from keras.models import Sequential\n",
    "from keras.layers import Dense, Flatten\n",
    "\n",
    "model = Sequential()\n",
    "model.add(Flatten(input_shape=(28, 28)))  # Flatten the 28x28 input images\n",
    "model.add(Dense(128, activation='relu'))   # First hidden layer with ReLU activation\n",
    "model.add(Dense(64, activation='relu'))    # Second hidden layer with ReLU activation\n",
    "model.add(Dense(10, activation='softmax'))  # Output layer with softmax activation for 10 classes (digits 0-9)"
   ]
  },
  {
   "cell_type": "code",
   "execution_count": 3,
   "metadata": {},
   "outputs": [],
   "source": [
    "model.compile(optimizer='adam', loss='sparse_categorical_crossentropy', metrics=['accuracy'])"
   ]
  },
  {
   "cell_type": "code",
   "execution_count": 6,
   "metadata": {},
   "outputs": [
    {
     "name": "stdout",
     "output_type": "stream",
     "text": [
      "Downloading data from https://storage.googleapis.com/tensorflow/tf-keras-datasets/mnist.npz\n",
      "11490434/11490434 [==============================] - 4s 0us/step\n"
     ]
    }
   ],
   "source": [
    "# Load the dataset\n",
    "import tensorflow as tf\n",
    "mnist = tf.keras.datasets.mnist\n",
    "(x_train, y_train), (x_test, y_test) = mnist.load_data()"
   ]
  },
  {
   "cell_type": "code",
   "execution_count": 8,
   "metadata": {},
   "outputs": [
    {
     "name": "stdout",
     "output_type": "stream",
     "text": [
      "Epoch 1/10\n",
      "1500/1500 [==============================] - 13s 7ms/step - loss: 2.2733 - accuracy: 0.8529 - val_loss: 0.4485 - val_accuracy: 0.8992\n",
      "Epoch 2/10\n",
      "1500/1500 [==============================] - 10s 7ms/step - loss: 0.3674 - accuracy: 0.9135 - val_loss: 0.2924 - val_accuracy: 0.9287\n",
      "Epoch 3/10\n",
      "1500/1500 [==============================] - 10s 7ms/step - loss: 0.2392 - accuracy: 0.9373 - val_loss: 0.2475 - val_accuracy: 0.9377\n",
      "Epoch 4/10\n",
      "1500/1500 [==============================] - 10s 7ms/step - loss: 0.1921 - accuracy: 0.9480 - val_loss: 0.2169 - val_accuracy: 0.9470\n",
      "Epoch 5/10\n",
      "1500/1500 [==============================] - 10s 7ms/step - loss: 0.1664 - accuracy: 0.9551 - val_loss: 0.1981 - val_accuracy: 0.9503\n",
      "Epoch 6/10\n",
      "1500/1500 [==============================] - 12s 8ms/step - loss: 0.1479 - accuracy: 0.9593 - val_loss: 0.1942 - val_accuracy: 0.9478\n",
      "Epoch 7/10\n",
      "1500/1500 [==============================] - 10s 7ms/step - loss: 0.1333 - accuracy: 0.9640 - val_loss: 0.1852 - val_accuracy: 0.9561\n",
      "Epoch 8/10\n",
      "1500/1500 [==============================] - 11s 7ms/step - loss: 0.1267 - accuracy: 0.9669 - val_loss: 0.1761 - val_accuracy: 0.9587\n",
      "Epoch 9/10\n",
      "1500/1500 [==============================] - 10s 7ms/step - loss: 0.1079 - accuracy: 0.9710 - val_loss: 0.1701 - val_accuracy: 0.9593\n",
      "Epoch 10/10\n",
      "1500/1500 [==============================] - 10s 7ms/step - loss: 0.1014 - accuracy: 0.9724 - val_loss: 0.1658 - val_accuracy: 0.9594\n"
     ]
    },
    {
     "data": {
      "text/plain": [
       "<keras.src.callbacks.History at 0x1d557185810>"
      ]
     },
     "execution_count": 8,
     "metadata": {},
     "output_type": "execute_result"
    }
   ],
   "source": [
    "model.fit(x_train, y_train, epochs=10, batch_size=32, validation_split=0.2)"
   ]
  },
  {
   "cell_type": "code",
   "execution_count": 9,
   "metadata": {},
   "outputs": [
    {
     "name": "stdout",
     "output_type": "stream",
     "text": [
      "313/313 [==============================] - 2s 4ms/step - loss: 0.1620 - accuracy: 0.9621\n",
      "Test accuracy: 96.21%\n"
     ]
    }
   ],
   "source": [
    "test_loss, test_accuracy = model.evaluate(x_test, y_test)\n",
    "print(f'Test accuracy: {test_accuracy * 100:.2f}%')"
   ]
  },
  {
   "cell_type": "code",
   "execution_count": 29,
   "metadata": {},
   "outputs": [
    {
     "name": "stdout",
     "output_type": "stream",
     "text": [
      "1/1 [==============================] - 0s 62ms/step\n"
     ]
    }
   ],
   "source": [
    "import matplotlib.pyplot as plt\n",
    "x_new_data = x_test[:3]\n",
    "predictions = model.predict(x_new_data)"
   ]
  },
  {
   "cell_type": "code",
   "execution_count": 28,
   "metadata": {},
   "outputs": [
    {
     "name": "stdout",
     "output_type": "stream",
     "text": [
      "Predicted: 7, Actual: 7\n",
      "Predicted: 2, Actual: 2\n",
      "Predicted: 1, Actual: 1\n"
     ]
    },
    {
     "data": {
      "image/png": "[encoded data removed]",
      "text/plain": [
       "<Figure size 640x480 with 3 Axes>"
      ]
     },
     "metadata": {},
     "output_type": "display_data"
    }
   ],
   "source": [
    "# Print model predictions along with ground-truth labels\n",
    "for i, (prediction, gt_label) in enumerate(zip(predictions, y_test[:3])): \n",
    "    predicted_digit = prediction.argmax()\n",
    "    print(f'Predicted: {predicted_digit}, Actual: {gt_label}')\n",
    "    plt.subplot(1, 3, i+1)\n",
    "    plt.imshow(x_new_data[i], cmap='binary')\n",
    "    plt.title(f'Predicted: {predicted_digit}\\n Actual: {gt_label}')\n",
    "    plt.axis('off')\n",
    "    plt.subplots_adjust(wspace=0.8)"
   ]
  },
  {
   "cell_type": "code",
   "execution_count": null,
   "metadata": {},
   "outputs": [],
   "source": [
    "# Save the model in ./Saved_Models/FNN/ directory\n",
    "model.save('./Saved_Models/FNN/mnist_fnn_model.h5')"
   ]
  }
 ],
 "metadata": {
  "kernelspec": {
   "display_name": "Python 3",
   "language": "python",
   "name": "python3"
  },
  "language_info": {
   "codemirror_mode": {
    "name": "ipython",
    "version": 3
   },
   "file_extension": ".py",
   "mimetype": "text/x-python",
   "name": "python",
   "nbconvert_exporter": "python",
   "pygments_lexer": "ipython3",
   "version": "3.11.5"
  }
 },
 "nbformat": 4,
 "nbformat_minor": 2
}
